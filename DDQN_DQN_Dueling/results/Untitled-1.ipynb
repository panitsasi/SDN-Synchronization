{
 "cells": [
  {
   "cell_type": "code",
   "execution_count": null,
   "metadata": {},
   "outputs": [],
   "source": [
    "import numpy as np"
   ]
  },
  {
   "cell_type": "code",
   "execution_count": null,
   "metadata": {},
   "outputs": [],
   "source": [
    "def bin_array(num, m):\n",
    "    \"\"\"Convert a positive integer num into an m-bit bit vector\"\"\"\n",
    "    return np.array(list(np.binary_repr(num).zfill(m))).astype(np.int8)\n"
   ]
  },
  {
   "cell_type": "code",
   "execution_count": null,
   "metadata": {},
   "outputs": [],
   "source": [
    "bin_array(1, 6)"
   ]
  },
  {
   "cell_type": "code",
   "execution_count": null,
   "metadata": {},
   "outputs": [],
   "source": [
    "import gym\n",
    "class BinaryEncoding(gym.Space):\n",
    "    \"\"\"\n",
    "    {0,...,1,...,0}\n",
    "\n",
    "    Example usage:\n",
    "    self.observation_space = OneHotEncoding(size=4)\n",
    "    \"\"\"\n",
    "    def __init__(self, size=None, numOnes=None):\n",
    "        assert isinstance(size, int) and size > 0\n",
    "        assert isinstance(numOnes, int) and size > 0\n",
    "        self.size = size\n",
    "        self.numOnes = numOnes\n",
    "        gym.Space.__init__(self, (), np.int64)\n",
    "\n",
    "    def sample(self):\n",
    "        one_hot_vector = np.zeros(self.size)\n",
    "        permuter = np.random.permutation (self.size) \n",
    "        print(permuter)\n",
    "        for entry in range(self.size):\n",
    "            if permuter[entry] < self.numOnes:  \n",
    "                one_hot_vector[entry] = 1\n",
    "        return one_hot_vector\n",
    "\n",
    "    def contains(self, x):\n",
    "        if isinstance(x, (list, tuple, np.ndarray)):\n",
    "            number_of_zeros = list(x).contains(0)\n",
    "            number_of_ones = list(x).contains(1)\n",
    "            return (number_of_zeros == (self.size - 1)) and (number_of_ones == 1)\n",
    "        else:\n",
    "            return False\n",
    "\n",
    "    def __repr__(self):\n",
    "        return \"OneHotEncoding(%d)\" % self.size\n",
    "\n",
    "    def __eq__(self, other):\n",
    "        return self.size == other.size"
   ]
  },
  {
   "cell_type": "code",
   "execution_count": null,
   "metadata": {},
   "outputs": [],
   "source": [
    "action_space = BinaryEncoding(size=4,numOnes=2)"
   ]
  },
  {
   "cell_type": "code",
   "execution_count": null,
   "metadata": {},
   "outputs": [],
   "source": [
    "action_space.sample()"
   ]
  },
  {
   "cell_type": "code",
   "execution_count": null,
   "metadata": {},
   "outputs": [],
   "source": [
    "a = 5\n",
    "b = 3\n",
    "import math\n",
    "c = math.comb(a,b)\n",
    "print(c)"
   ]
  },
  {
   "cell_type": "code",
   "execution_count": null,
   "metadata": {},
   "outputs": [],
   "source": []
  },
  {
   "cell_type": "code",
   "execution_count": null,
   "metadata": {},
   "outputs": [],
   "source": [
    "def place_ones(size, count):\n",
    "    for positions in combinations(range(size), count):\n",
    "        p = [0] * size\n",
    "        for i in positions:\n",
    "            p[i] = 1\n",
    "        yield p"
   ]
  },
  {
   "cell_type": "code",
   "execution_count": null,
   "metadata": {},
   "outputs": [],
   "source": [
    "print(list(place_ones(3,2)))"
   ]
  },
  {
   "cell_type": "code",
   "execution_count": null,
   "metadata": {},
   "outputs": [],
   "source": [
    "import pickle\n",
    "\n",
    "with open('data_and_graphs/SDN_sync_Results_Data.pkl', 'rb') as f:\n",
    "    data = pickle.load(f)"
   ]
  },
  {
   "cell_type": "code",
   "execution_count": null,
   "metadata": {},
   "outputs": [],
   "source": [
    "print(data['DQN'])"
   ]
  },
  {
   "cell_type": "code",
   "execution_count": 1,
   "metadata": {},
   "outputs": [],
   "source": [
    "import torch\n",
    "Model = torch.load('../Models/DDQN_local_network_MODEL.pt')"
   ]
  },
  {
   "cell_type": "code",
   "execution_count": 2,
   "metadata": {},
   "outputs": [
    {
     "name": "stdout",
     "output_type": "stream",
     "text": [
      "NN(\n",
      "  (embedding_layers): ModuleList()\n",
      "  (hidden_layers): ModuleList(\n",
      "    (0): Linear(in_features=4, out_features=10, bias=True)\n",
      "    (1): Linear(in_features=10, out_features=10, bias=True)\n",
      "  )\n",
      "  (output_layers): ModuleList(\n",
      "    (0): Linear(in_features=10, out_features=6, bias=True)\n",
      "  )\n",
      "  (dropout_layer): Dropout(p=0.0, inplace=False)\n",
      ")\n"
     ]
    }
   ],
   "source": [
    "print(Model)"
   ]
  },
  {
   "cell_type": "code",
   "execution_count": 3,
   "metadata": {},
   "outputs": [
    {
     "data": {
      "text/plain": [
       "<All keys matched successfully>"
      ]
     },
     "execution_count": 3,
     "metadata": {},
     "output_type": "execute_result"
    }
   ],
   "source": [
    "Model.load_state_dict(torch.load('../Models/DDQN_local_network_dict.pt'))"
   ]
  },
  {
   "cell_type": "code",
   "execution_count": 9,
   "metadata": {},
   "outputs": [],
   "source": [
    "In = torch.Tensor([4,3,1,5]).to('cuda:0')\n",
    "Out = Model.forward(In)"
   ]
  },
  {
   "cell_type": "code",
   "execution_count": null,
   "metadata": {},
   "outputs": [],
   "source": [
    "0: 1100\n",
    "1: 1010\n",
    "2: 1001\n",
    "3: 0110\n",
    "4: 0101\n",
    "5: 0011"
   ]
  },
  {
   "cell_type": "code",
   "execution_count": 10,
   "metadata": {},
   "outputs": [
    {
     "name": "stdout",
     "output_type": "stream",
     "text": [
      "tensor([3473.3044, 2685.4495, 4142.3594, 2638.9392, 3958.1465, 3140.4275],\n",
      "       device='cuda:0', grad_fn=<AddBackward0>)\n"
     ]
    }
   ],
   "source": [
    "print(Out)"
   ]
  }
 ],
 "metadata": {
  "kernelspec": {
   "display_name": "Python 3.7.4 64-bit",
   "language": "python",
   "name": "python3"
  },
  "language_info": {
   "codemirror_mode": {
    "name": "ipython",
    "version": 3
   },
   "file_extension": ".py",
   "mimetype": "text/x-python",
   "name": "python",
   "nbconvert_exporter": "python",
   "pygments_lexer": "ipython3",
   "version": "3.7.4"
  },
  "orig_nbformat": 4,
  "vscode": {
   "interpreter": {
    "hash": "79f8c135ddbe40186834991cfb5c0115e44077b08e4cfe14c86ac028308a3718"
   }
  }
 },
 "nbformat": 4,
 "nbformat_minor": 2
}
